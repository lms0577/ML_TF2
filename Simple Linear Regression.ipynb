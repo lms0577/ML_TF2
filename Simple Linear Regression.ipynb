{
 "cells": [
  {
   "cell_type": "markdown",
   "metadata": {},
   "source": [
    "# Simple Linear Regression"
   ]
  },
  {
   "cell_type": "code",
   "execution_count": 1,
   "metadata": {},
   "outputs": [
    {
     "name": "stdout",
     "output_type": "stream",
     "text": [
      "2.1.0\n"
     ]
    }
   ],
   "source": [
    "import tensorflow as tf\n",
    "import numpy as np\n",
    "import matplotlib.pyplot as plt\n",
    "\n",
    "print(tf.__version__)"
   ]
  },
  {
   "cell_type": "markdown",
   "metadata": {},
   "source": [
    "## Train Data"
   ]
  },
  {
   "cell_type": "code",
   "execution_count": 2,
   "metadata": {},
   "outputs": [],
   "source": [
    "x_data = [1, 2, 3, 4, 5]\n",
    "y_data = [7, 9, 11, 13, 15]"
   ]
  },
  {
   "cell_type": "markdown",
   "metadata": {},
   "source": [
    "## Step 1: Hypothesis (가설 or 모델)"
   ]
  },
  {
   "cell_type": "code",
   "execution_count": 3,
   "metadata": {},
   "outputs": [],
   "source": [
    "# 임의의 값으로 변수 설정\n",
    "W = tf.Variable(5.0)\n",
    "b = tf.Variable(10.0)\n",
    "\n",
    "# 가설\n",
    "# y = wx + b (y = 2X + 5)\n",
    "hypothesis = W * x_data + b"
   ]
  },
  {
   "cell_type": "code",
   "execution_count": 4,
   "metadata": {},
   "outputs": [
    {
     "data": {
      "image/png": "[encoded data removed]",
      "text/plain": [
       "<Figure size 432x288 with 1 Axes>"
      ]
     },
     "metadata": {
      "needs_background": "light"
     },
     "output_type": "display_data"
    }
   ],
   "source": [
    "# 가설과 트레이닝 데이터 표시\n",
    "plt.plot(x_data, hypothesis.numpy(), 'r-')\n",
    "plt.plot(x_data, y_data, 'o')\n",
    "plt.show()"
   ]
  },
  {
   "cell_type": "markdown",
   "metadata": {},
   "source": [
    "## Step 2: Cost Function (손실 함수)"
   ]
  },
  {
   "cell_type": "code",
   "execution_count": 5,
   "metadata": {},
   "outputs": [],
   "source": [
    "# tf.reduce_mean(): 평균\n",
    "# tf.square(a): a^2\n",
    "cost = tf.reduce_mean(tf.square(hypothesis - y_data))"
   ]
  },
  {
   "cell_type": "markdown",
   "metadata": {},
   "source": [
    "## Step 3: Optimizer (Minimize Cost Function)"
   ]
  },
  {
   "cell_type": "code",
   "execution_count": 6,
   "metadata": {},
   "outputs": [],
   "source": [
    "# 경사 하강법\n",
    "# tf.GradientTape() 사용\n",
    "learning_rate = 0.01"
   ]
  },
  {
   "cell_type": "markdown",
   "metadata": {},
   "source": [
    "## 훈련"
   ]
  },
  {
   "cell_type": "code",
   "execution_count": 7,
   "metadata": {},
   "outputs": [
    {
     "name": "stdout",
     "output_type": "stream",
     "text": [
      "    0|    4.0400|    9.7200|214.000000\n",
      "   10|    1.1757|    8.7883|  3.504406\n",
      "   20|    1.0152|    8.6101|  2.387447\n",
      "   30|    1.0354|    8.4864|  2.227083\n",
      "   40|    1.0666|    8.3700|  2.081211\n",
      "   50|    1.0977|    8.2578|  1.944910\n",
      "   60|    1.1277|    8.1493|  1.817535\n",
      "   70|    1.1567|    8.0444|  1.698503\n",
      "   80|    1.1848|    7.9430|  1.587267\n",
      "   90|    1.2120|    7.8450|  1.483315\n",
      "  100|    1.2382|    7.7503|  1.386172\n",
      "  110|    1.2636|    7.6587|  1.295390\n",
      "  120|    1.2881|    7.5702|  1.210553\n",
      "  130|    1.3118|    7.4846|  1.131274\n",
      "  140|    1.3347|    7.4019|  1.057185\n",
      "  150|    1.3569|    7.3219|  0.987949\n",
      "  160|    1.3783|    7.2446|  0.923247\n",
      "  170|    1.3990|    7.1698|  0.862782\n",
      "  180|    1.4190|    7.0976|  0.806278\n",
      "  190|    1.4384|    7.0277|  0.753475\n",
      "  200|    1.4571|    6.9602|  0.704129\n",
      "  210|    1.4751|    6.8949|  0.658014\n",
      "  220|    1.4926|    6.8318|  0.614921\n",
      "  230|    1.5095|    6.7708|  0.574649\n",
      "  240|    1.5258|    6.7119|  0.537015\n",
      "  250|    1.5416|    6.6548|  0.501845\n",
      "  260|    1.5569|    6.5997|  0.468979\n",
      "  270|    1.5717|    6.5465|  0.438266\n",
      "  280|    1.5859|    6.4950|  0.409563\n",
      "  290|    1.5997|    6.4452|  0.382741\n",
      "  300|    1.6130|    6.3971|  0.357674\n",
      "  310|    1.6259|    6.3505|  0.334250\n",
      "  320|    1.6384|    6.3056|  0.312360\n",
      "  330|    1.6504|    6.2621|  0.291903\n",
      "  340|    1.6621|    6.2201|  0.272786\n",
      "  350|    1.6733|    6.1794|  0.254921\n",
      "  360|    1.6842|    6.1402|  0.238227\n",
      "  370|    1.6947|    6.1022|  0.222625\n",
      "  380|    1.7049|    6.0655|  0.208045\n",
      "  390|    1.7147|    6.0300|  0.194420\n",
      "  400|    1.7242|    5.9957|  0.181687\n",
      "  410|    1.7334|    5.9626|  0.169788\n",
      "  420|    1.7423|    5.9305|  0.158669\n",
      "  430|    1.7508|    5.8995|  0.148278\n",
      "  440|    1.7591|    5.8696|  0.138567\n",
      "  450|    1.7672|    5.8406|  0.129492\n",
      "  460|    1.7749|    5.8126|  0.121011\n",
      "  470|    1.7824|    5.7856|  0.113086\n",
      "  480|    1.7897|    5.7594|  0.105680\n",
      "  490|    1.7967|    5.7341|  0.098759\n",
      "  500|    1.8034|    5.7097|  0.092291\n",
      "  510|    1.8100|    5.6860|  0.086247\n",
      "  520|    1.8163|    5.6632|  0.080599\n",
      "  530|    1.8224|    5.6411|  0.075320\n",
      "  540|    1.8283|    5.6198|  0.070387\n",
      "  550|    1.8341|    5.5991|  0.065778\n",
      "  560|    1.8396|    5.5792|  0.061470\n",
      "  570|    1.8449|    5.5599|  0.057444\n",
      "  580|    1.8501|    5.5412|  0.053682\n",
      "  590|    1.8551|    5.5232|  0.050166\n",
      "  600|    1.8599|    5.5058|  0.046881\n",
      "  610|    1.8646|    5.4889|  0.043811\n",
      "  620|    1.8691|    5.4727|  0.040941\n",
      "  630|    1.8734|    5.4569|  0.038260\n",
      "  640|    1.8777|    5.4417|  0.035754\n",
      "  650|    1.8817|    5.4270|  0.033413\n",
      "  660|    1.8857|    5.4128|  0.031224\n",
      "  670|    1.8895|    5.3990|  0.029179\n",
      "  680|    1.8932|    5.3857|  0.027268\n",
      "  690|    1.8967|    5.3729|  0.025483\n",
      "  700|    1.9002|    5.3605|  0.023814\n",
      "  710|    1.9035|    5.3485|  0.022254\n",
      "  720|    1.9067|    5.3369|  0.020797\n",
      "  730|    1.9098|    5.3257|  0.019435\n",
      "  740|    1.9128|    5.3148|  0.018162\n",
      "  750|    1.9157|    5.3043|  0.016972\n",
      "  760|    1.9185|    5.2942|  0.015861\n",
      "  770|    1.9212|    5.2844|  0.014822\n",
      "  780|    1.9238|    5.2749|  0.013851\n",
      "  790|    1.9264|    5.2658|  0.012944\n",
      "  800|    1.9288|    5.2569|  0.012097\n",
      "  810|    1.9312|    5.2484|  0.011304\n",
      "  820|    1.9335|    5.2401|  0.010564\n",
      "  830|    1.9357|    5.2321|  0.009872\n",
      "  840|    1.9379|    5.2244|  0.009226\n",
      "  850|    1.9399|    5.2169|  0.008621\n",
      "  860|    1.9419|    5.2097|  0.008057\n",
      "  870|    1.9439|    5.2027|  0.007529\n",
      "  880|    1.9457|    5.1959|  0.007036\n",
      "  890|    1.9475|    5.1894|  0.006575\n",
      "  900|    1.9493|    5.1831|  0.006145\n",
      "  910|    1.9510|    5.1770|  0.005742\n",
      "  920|    1.9526|    5.1711|  0.005366\n",
      "  930|    1.9542|    5.1654|  0.005015\n",
      "  940|    1.9557|    5.1599|  0.004686\n",
      "  950|    1.9572|    5.1546|  0.004379\n",
      "  960|    1.9586|    5.1494|  0.004093\n",
      "  970|    1.9600|    5.1445|  0.003825\n",
      "  980|    1.9613|    5.1397|  0.003574\n",
      "  990|    1.9626|    5.1350|  0.003340\n"
     ]
    }
   ],
   "source": [
    "# 훈련 반복 횟수 설정\n",
    "epoch = 1000\n",
    "for i in range(epoch):\n",
    "    # Gradient descent (경사하강법)\n",
    "    with tf.GradientTape() as tape:\n",
    "        hypothesis = W * x_data + b\n",
    "        cost = tf.reduce_mean(tf.square(hypothesis - y_data))\n",
    "    # 경사하강법으로 w, b의 기울기 값(미분)을 얻는다.\n",
    "    W_grad, b_grad = tape.gradient(cost, [W, b])\n",
    "    # w, b의 값을 업데이트\n",
    "    # a.assign_sub(b): a = a - b\n",
    "    W.assign_sub(learning_rate * W_grad)\n",
    "    b.assign_sub(learning_rate * b_grad)\n",
    "    # 10번에 한번 값 출력\n",
    "    if i % 10 == 0:\n",
    "        print(\"{:5}|{:10.4f}|{:10.4f}|{:10.6f}\".format(i, W.numpy(), b.numpy(), cost))"
   ]
  },
  {
   "cell_type": "code",
   "execution_count": 8,
   "metadata": {},
   "outputs": [
    {
     "data": {
      "image/png": "[encoded data removed]",
      "text/plain": [
       "<Figure size 432x288 with 1 Axes>"
      ]
     },
     "metadata": {
      "needs_background": "light"
     },
     "output_type": "display_data"
    }
   ],
   "source": [
    "# 훈련 후의 가설(모델)과 트레이닝 데이터 표시\n",
    "plt.plot(x_data, hypothesis.numpy(), 'r-')\n",
    "plt.plot(x_data, y_data, 'o')\n",
    "plt.show()"
   ]
  },
  {
   "cell_type": "markdown",
   "metadata": {},
   "source": [
    "## Predict (예측)"
   ]
  },
  {
   "cell_type": "code",
   "execution_count": 9,
   "metadata": {},
   "outputs": [
    {
     "name": "stdout",
     "output_type": "stream",
     "text": [
      "tf.Tensor(44.405525, shape=(), dtype=float32)\n"
     ]
    }
   ],
   "source": [
    "# 가설: y = 2x + 5\n",
    "# x: 20 -> y: 45\n",
    "y = W * 20 + b\n",
    "print(y)"
   ]
  }
 ],
 "metadata": {
  "kernelspec": {
   "display_name": "Python 3",
   "language": "python",
   "name": "python3"
  },
  "language_info": {
   "codemirror_mode": {
    "name": "ipython",
    "version": 3
   },
   "file_extension": ".py",
   "mimetype": "text/x-python",
   "name": "python",
   "nbconvert_exporter": "python",
   "pygments_lexer": "ipython3",
   "version": "3.6.10"
  }
 },
 "nbformat": 4,
 "nbformat_minor": 4
}
